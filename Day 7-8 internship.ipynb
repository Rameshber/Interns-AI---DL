{
 "cells": [
  {
   "cell_type": "code",
   "execution_count": 4,
   "metadata": {},
   "outputs": [],
   "source": [
    "#command to download numpy module \n",
    "# !python -m pip install numpy"
   ]
  },
  {
   "cell_type": "code",
   "execution_count": 7,
   "metadata": {},
   "outputs": [
    {
     "name": "stdout",
     "output_type": "stream",
     "text": [
      "Requirement already satisfied: numpy in c:\\users\\anush goswami\\appdata\\local\\programs\\python\\python311\\lib\\site-packages (1.25.1)\n"
     ]
    },
    {
     "name": "stderr",
     "output_type": "stream",
     "text": [
      "\n",
      "[notice] A new release of pip available: 22.3.1 -> 23.2.1\n",
      "[notice] To update, run: python.exe -m pip install --upgrade pip\n"
     ]
    }
   ],
   "source": [
    "!python -m pip install numpy"
   ]
  },
  {
   "cell_type": "code",
   "execution_count": 8,
   "metadata": {},
   "outputs": [],
   "source": [
    "import numpy as np"
   ]
  },
  {
   "cell_type": "code",
   "execution_count": 9,
   "metadata": {},
   "outputs": [],
   "source": [
    "#NumPy Datatype\n",
    "### Numpy.nd.array"
   ]
  },
  {
   "cell_type": "code",
   "execution_count": 18,
   "metadata": {},
   "outputs": [],
   "source": [
    "a = np.array([3,8,2,67,45])\n",
    "a\n",
    "\n",
    "def show_array(arr):\n",
    "    print(\"Array\",arr,sep = '\\n')\n",
    "    print(\"Shape\",arr.shape)\n",
    "    print(\"Type\",type(arr))\n",
    "    print(\"Size\",arr.size)\n",
    "    print(\"DataType\",arr.dtype)\n",
    "    print(\"Length\",len(arr))\n",
    "    print(\"Dimension\",arr.ndim)\n",
    "\n",
    "    "
   ]
  },
  {
   "cell_type": "code",
   "execution_count": 19,
   "metadata": {},
   "outputs": [
    {
     "name": "stdout",
     "output_type": "stream",
     "text": [
      "<class 'numpy.ndarray'>\n",
      "(5,)\n",
      "5\n",
      "int32\n",
      "5\n"
     ]
    }
   ],
   "source": [
    "print(type(a))\n",
    "print(a.shape)\n",
    "print(a.size)\n",
    "print(a.dtype)\n",
    "#additionaly can check length \n",
    "print(len(a))"
   ]
  },
  {
   "cell_type": "code",
   "execution_count": 22,
   "metadata": {},
   "outputs": [
    {
     "name": "stdout",
     "output_type": "stream",
     "text": [
      "Array\n",
      "[[10 11 13 14]\n",
      " [45 22  9  2]\n",
      " [ 6  5  1  8]]\n",
      "Shape (3, 4)\n",
      "Type <class 'numpy.ndarray'>\n",
      "Size 12\n",
      "DataType int32\n",
      "Length 3\n"
     ]
    }
   ],
   "source": [
    "#2D Array in numpy\n",
    "\n",
    "# 10 11 13 14\n",
    "# 45 22 9  2\n",
    "# 6  5  1  8\n",
    "\n",
    "b = np.array ([[10,11,13,14],[45,22,9,2],[6,5,1,8]])\n",
    "show_array(b)\n"
   ]
  },
  {
   "cell_type": "code",
   "execution_count": 23,
   "metadata": {},
   "outputs": [],
   "source": [
    "#ARRAY OPERATIONS\n",
    "\n",
    "# 1. Item Accessing: Subsripting , Slicing\n",
    "# 2. Item Assignment\n",
    "# 3. Item Insertion\n",
    "# 4. Item Deletion\n",
    "# 5. Arthematic Operations"
   ]
  },
  {
   "cell_type": "code",
   "execution_count": 24,
   "metadata": {},
   "outputs": [
    {
     "name": "stdout",
     "output_type": "stream",
     "text": [
      "Array\n",
      "[[[ 10 110]\n",
      "  [ 11 110]\n",
      "  [ 13 130]\n",
      "  [ 14 140]]\n",
      "\n",
      " [[ 45 145]\n",
      "  [ 22 122]\n",
      "  [  9  19]\n",
      "  [  2  12]]\n",
      "\n",
      " [[  6  16]\n",
      "  [  5  15]\n",
      "  [  1  11]\n",
      "  [  8  18]]]\n",
      "Shape (3, 4, 2)\n",
      "Type <class 'numpy.ndarray'>\n",
      "Size 24\n",
      "DataType int32\n",
      "Length 3\n"
     ]
    }
   ],
   "source": [
    "#3D Array in numpy\n",
    "\n",
    "             # 100 110 130 140\n",
    "             # 145 122 19  12\n",
    "             # 16  15  11  18\n",
    "\n",
    "# 10 11 13 14\n",
    "# 45 22 9  2\n",
    "# 6  5  1  8\n",
    "\n",
    "c = np.array ([[[10,110],[11,110],[13,130],[14,140]],\n",
    "               [[45,145],[22,122],[9,19],[2,12]],\n",
    "               [[6,16],[5,15],[1,11],[8,18]]])\n",
    "show_array(c)\n"
   ]
  },
  {
   "cell_type": "code",
   "execution_count": 26,
   "metadata": {},
   "outputs": [
    {
     "data": {
      "text/plain": [
       "array([[10, 11, 13, 14],\n",
       "       [45, 22,  9,  2],\n",
       "       [ 6,  5,  1,  8]])"
      ]
     },
     "execution_count": 26,
     "metadata": {},
     "output_type": "execute_result"
    }
   ],
   "source": [
    "b = np.array ([[10,11,13,14],[45,22,9,2],[6,5,1,8]])\n",
    "b"
   ]
  },
  {
   "cell_type": "code",
   "execution_count": 36,
   "metadata": {},
   "outputs": [
    {
     "data": {
      "text/plain": [
       "array([13,  9,  1])"
      ]
     },
     "execution_count": 36,
     "metadata": {},
     "output_type": "execute_result"
    }
   ],
   "source": [
    "#1. Item Accessing\n",
    "#b[0][0]\n",
    "#b[1][1:]\n",
    "# now want to access random numbers from different rows then need to use subscripting (not normal indexing, use subsrcipt for indexing and slicing)\n",
    "#subscripting [1st,2nd,3rd.....nth dim]\n",
    "#subscripting slicing [1st:1st end:stepsize,,2nd,3rd.....nth dim]\n",
    "b[0,0]\n",
    "b[1,-3:]\n",
    "b[:,-2]"
   ]
  },
  {
   "cell_type": "code",
   "execution_count": 37,
   "metadata": {},
   "outputs": [
    {
     "data": {
      "text/plain": [
       "(3,)"
      ]
     },
     "execution_count": 37,
     "metadata": {},
     "output_type": "execute_result"
    }
   ],
   "source": [
    "b[:,-2].shape"
   ]
  },
  {
   "cell_type": "code",
   "execution_count": 43,
   "metadata": {},
   "outputs": [
    {
     "data": {
      "text/plain": [
       "array([[13],\n",
       "       [ 9],\n",
       "       [ 1]])"
      ]
     },
     "execution_count": 43,
     "metadata": {},
     "output_type": "execute_result"
    }
   ],
   "source": [
    "#want this in column form then just write slice in that way\n",
    "b[:,-2:-1]"
   ]
  },
  {
   "cell_type": "code",
   "execution_count": 44,
   "metadata": {},
   "outputs": [
    {
     "name": "stdout",
     "output_type": "stream",
     "text": [
      "(3, 1)\n"
     ]
    }
   ],
   "source": [
    "print(b[:,-2:-1].shape)     "
   ]
  },
  {
   "cell_type": "code",
   "execution_count": 57,
   "metadata": {},
   "outputs": [
    {
     "data": {
      "text/plain": [
       "array([6, 5, 1, 8])"
      ]
     },
     "execution_count": 57,
     "metadata": {},
     "output_type": "execute_result"
    }
   ],
   "source": [
    "b[-1][0:]"
   ]
  },
  {
   "cell_type": "code",
   "execution_count": 59,
   "metadata": {},
   "outputs": [
    {
     "data": {
      "text/plain": [
       "(4,)"
      ]
     },
     "execution_count": 59,
     "metadata": {},
     "output_type": "execute_result"
    }
   ],
   "source": [
    "b[2][0:].shape"
   ]
  },
  {
   "cell_type": "code",
   "execution_count": 66,
   "metadata": {},
   "outputs": [
    {
     "data": {
      "text/plain": [
       "(11, 22, 5)"
      ]
     },
     "execution_count": 66,
     "metadata": {},
     "output_type": "execute_result"
    }
   ],
   "source": [
    "c[0,1,0],c[1,1,0],c[2,1,0]"
   ]
  },
  {
   "cell_type": "code",
   "execution_count": 68,
   "metadata": {},
   "outputs": [
    {
     "name": "stdout",
     "output_type": "stream",
     "text": [
      "[[6 5 1 8]]\n",
      "\n",
      "\n",
      "[[[ 10 110]\n",
      "  [ 11 110]]]\n",
      "\n",
      "\n",
      "[[[11]]\n",
      "\n",
      " [[22]]\n",
      "\n",
      " [[ 5]]]\n",
      "\n",
      "\n",
      "[[[14]]]\n",
      "\n",
      "\n",
      "[[[ 13 130]\n",
      "  [ 14 140]]\n",
      "\n",
      " [[  9  19]\n",
      "  [  2  12]]]\n"
     ]
    }
   ],
   "source": [
    "#Ans for sir questions\n",
    "print(b[-1:,:])\n",
    "print(\"\\n\")\n",
    "print(c[:1,:2,:])\n",
    "print(\"\\n\")\n",
    "print(c[:,1:2,:1])\n",
    "print(\"\\n\")\n",
    "print(c[:-2,-1:,:1])\n",
    "print(\"\\n\")\n",
    "print(c[:2,-2:,:])"
   ]
  },
  {
   "cell_type": "code",
   "execution_count": 71,
   "metadata": {},
   "outputs": [
    {
     "data": {
      "text/plain": [
       "array([[10, 11, 13, 14],\n",
       "       [45, 22, 90,  2],\n",
       "       [ 6,  5,  1,  8]])"
      ]
     },
     "execution_count": 71,
     "metadata": {},
     "output_type": "execute_result"
    }
   ],
   "source": [
    "# Item Assignment in numpy\n",
    "b[1,2] = 90\n",
    "b"
   ]
  },
  {
   "cell_type": "code",
   "execution_count": 72,
   "metadata": {},
   "outputs": [
    {
     "data": {
      "text/plain": [
       "array([ 3,  8,  2, 67, 45, 80])"
      ]
     },
     "execution_count": 72,
     "metadata": {},
     "output_type": "execute_result"
    }
   ],
   "source": [
    "#Item Insertion\n",
    "#based on the shape of array\n",
    "\n",
    "# 1D Array insertion\n",
    "np.append(a,80)"
   ]
  },
  {
   "cell_type": "code",
   "execution_count": 73,
   "metadata": {},
   "outputs": [
    {
     "data": {
      "text/plain": [
       "array([ 3,  8,  2, 67, 45])"
      ]
     },
     "execution_count": 73,
     "metadata": {},
     "output_type": "execute_result"
    }
   ],
   "source": [
    "#but not updated in a."
   ]
  },
  {
   "cell_type": "code",
   "execution_count": 74,
   "metadata": {},
   "outputs": [
    {
     "data": {
      "text/plain": [
       "array([ 3,  8,  2, 67, 45, 80])"
      ]
     },
     "execution_count": 74,
     "metadata": {},
     "output_type": "execute_result"
    }
   ],
   "source": [
    "#So\n",
    "a = np.append(a,80)\n",
    "a"
   ]
  },
  {
   "cell_type": "code",
   "execution_count": 76,
   "metadata": {},
   "outputs": [
    {
     "data": {
      "text/plain": [
       "array([[  10,   11,   13,   14,    1],\n",
       "       [  45,   22,   90,    2,   23],\n",
       "       [   6,    5,    1,    8, 8000]])"
      ]
     },
     "execution_count": 76,
     "metadata": {},
     "output_type": "execute_result"
    }
   ],
   "source": [
    "# 2D Array Insertion\n",
    "# can't do straightforwardly, have to give axis too.\n",
    "np.append(b,[[1],[23],[8000]],axis =1) #axis = 0 means row and axis =1 means column and also need to match the shape of data accordingly to axis.\n",
    " \n",
    "\n"
   ]
  },
  {
   "cell_type": "code",
   "execution_count": 78,
   "metadata": {},
   "outputs": [
    {
     "data": {
      "text/plain": [
       "array([[  10,   11,   13,   14],\n",
       "       [  45,   22,   90,    2],\n",
       "       [   6,    5,    1,    8],\n",
       "       [   1,   23, 8000,    8]])"
      ]
     },
     "execution_count": 78,
     "metadata": {},
     "output_type": "execute_result"
    }
   ],
   "source": [
    "np.append(b,[[1,23,8000,8]],axis =0)"
   ]
  },
  {
   "cell_type": "code",
   "execution_count": 86,
   "metadata": {},
   "outputs": [
    {
     "name": "stdout",
     "output_type": "stream",
     "text": [
      "[[10 11 13 14]\n",
      " [45 22 90  2]\n",
      " [ 6  5  1  8]]\n",
      "\n",
      "Afer Deletion\n"
     ]
    },
    {
     "data": {
      "text/plain": [
       "array([[45, 22, 90,  2],\n",
       "       [ 6,  5,  1,  8]])"
      ]
     },
     "execution_count": 86,
     "metadata": {},
     "output_type": "execute_result"
    }
   ],
   "source": [
    "#Item Deletion\n",
    "b1 = b.copy()\n",
    "print(b1)\n",
    "print(\"\\nAfer Deletion\")\n",
    "np.delete(b1,0,axis =0)"
   ]
  },
  {
   "cell_type": "code",
   "execution_count": 89,
   "metadata": {},
   "outputs": [
    {
     "name": "stdout",
     "output_type": "stream",
     "text": [
      "[  6  16   4 134  90 160]\n",
      "\n",
      "\n",
      "[[ 20  22  26  28]\n",
      " [ 90  44 180   4]\n",
      " [ 12  10   2  16]]\n"
     ]
    }
   ],
   "source": [
    "#Arthematic Operations\n",
    "#e.g\n",
    "print(a*2)\n",
    "print(\"\\n\")\n",
    "print(b1*2)"
   ]
  },
  {
   "cell_type": "code",
   "execution_count": 90,
   "metadata": {},
   "outputs": [
    {
     "name": "stdout",
     "output_type": "stream",
     "text": [
      "[[ 8  9 11 12]\n",
      " [43 20 88  0]\n",
      " [ 4  3 -1  6]]\n"
     ]
    }
   ],
   "source": [
    "print(b1-2)"
   ]
  },
  {
   "cell_type": "code",
   "execution_count": 99,
   "metadata": {},
   "outputs": [],
   "source": [
    "#Array Manipulation \n",
    "\n",
    "#arr.reshape()\n",
    "#e.g\n",
    "#b1.reshape(2,6,1,1)\n",
    "\n",
    "#arr.astype(type)\n",
    "#e.g b1.astype('uint16)\n",
    "#numpy gives float64 by default.\n",
    "\n",
    "\n",
    "#More functions to create array\n",
    "#1. np.array()\n",
    "#2. np.arrange()        -> array version of range func, also allows float\n",
    "#3. np.linspace()       -> start,end, no. of items\n",
    "#4. np.ones()           -> generate all the values as '1'\n",
    "#4. np.zeros()          -> generate all the values as '0'\n",
    "#5. np.random.random()  -> generate all the values as random\n",
    "#6. np.random.randint() -> generate all the values as random integers."
   ]
  },
  {
   "cell_type": "code",
   "execution_count": null,
   "metadata": {},
   "outputs": [
    {
     "data": {
      "text/plain": [
       "array([[5, 5, 5, 5],\n",
       "       [5, 5, 5, 5],\n",
       "       [5, 5, 5, 5]])"
      ]
     },
     "execution_count": 101,
     "metadata": {},
     "output_type": "execute_result"
    }
   ],
   "source": [
    "#to form a array of elements as 5.\n",
    "np.ones((3,4),dtype = 'int')*5"
   ]
  },
  {
   "cell_type": "code",
   "execution_count": null,
   "metadata": {},
   "outputs": [],
   "source": [
    "#Exercises for NumPy\n",
    "# as given on wtsap in group"
   ]
  },
  {
   "cell_type": "code",
   "execution_count": 1,
   "metadata": {},
   "outputs": [
    {
     "name": "stdout",
     "output_type": "stream",
     "text": [
      "Collecting opencv-python\n",
      "  Downloading opencv_python-4.8.0.74-cp37-abi3-win_amd64.whl (38.1 MB)\n",
      "     -------------------------------------- 38.1/38.1 MB 750.1 kB/s eta 0:00:00\n",
      "Requirement already satisfied: numpy>=1.21.2 in c:\\users\\anush goswami\\appdata\\local\\programs\\python\\python311\\lib\\site-packages (from opencv-python) (1.25.1)\n",
      "Installing collected packages: opencv-python\n",
      "Successfully installed opencv-python-4.8.0.74\n"
     ]
    },
    {
     "name": "stderr",
     "output_type": "stream",
     "text": [
      "\n",
      "[notice] A new release of pip available: 22.3.1 -> 23.2.1\n",
      "[notice] To update, run: python.exe -m pip install --upgrade pip\n"
     ]
    },
    {
     "name": "stdout",
     "output_type": "stream",
     "text": [
      "Collecting matplotlib\n",
      "  Downloading matplotlib-3.7.2-cp311-cp311-win_amd64.whl (7.5 MB)\n",
      "     ---------------------------------------- 7.5/7.5 MB 733.4 kB/s eta 0:00:00\n",
      "Collecting contourpy>=1.0.1\n",
      "  Downloading contourpy-1.1.0-cp311-cp311-win_amd64.whl (470 kB)\n",
      "     -------------------------------------- 470.9/470.9 kB 1.7 MB/s eta 0:00:00\n",
      "Collecting cycler>=0.10\n",
      "  Downloading cycler-0.11.0-py3-none-any.whl (6.4 kB)\n",
      "Collecting fonttools>=4.22.0\n",
      "  Downloading fonttools-4.41.1-cp311-cp311-win_amd64.whl (2.1 MB)\n",
      "     ---------------------------------------- 2.1/2.1 MB 866.5 kB/s eta 0:00:00\n",
      "Collecting kiwisolver>=1.0.1\n",
      "  Downloading kiwisolver-1.4.4-cp311-cp311-win_amd64.whl (55 kB)\n",
      "     -------------------------------------- 55.4/55.4 kB 716.7 kB/s eta 0:00:00\n",
      "Requirement already satisfied: numpy>=1.20 in c:\\users\\anush goswami\\appdata\\local\\programs\\python\\python311\\lib\\site-packages (from matplotlib) (1.25.1)\n",
      "Requirement already satisfied: packaging>=20.0 in c:\\users\\anush goswami\\appdata\\roaming\\python\\python311\\site-packages (from matplotlib) (23.1)\n",
      "Collecting pillow>=6.2.0\n",
      "  Downloading Pillow-10.0.0-cp311-cp311-win_amd64.whl (2.5 MB)\n",
      "     ---------------------------------------- 2.5/2.5 MB 821.7 kB/s eta 0:00:00\n",
      "Collecting pyparsing<3.1,>=2.3.1\n",
      "  Downloading pyparsing-3.0.9-py3-none-any.whl (98 kB)\n",
      "     ---------------------------------------- 98.3/98.3 kB 1.1 MB/s eta 0:00:00\n",
      "Requirement already satisfied: python-dateutil>=2.7 in c:\\users\\anush goswami\\appdata\\roaming\\python\\python311\\site-packages (from matplotlib) (2.8.2)\n",
      "Requirement already satisfied: six>=1.5 in c:\\users\\anush goswami\\appdata\\roaming\\python\\python311\\site-packages (from python-dateutil>=2.7->matplotlib) (1.16.0)\n",
      "Installing collected packages: pyparsing, pillow, kiwisolver, fonttools, cycler, contourpy, matplotlib\n",
      "Successfully installed contourpy-1.1.0 cycler-0.11.0 fonttools-4.41.1 kiwisolver-1.4.4 matplotlib-3.7.2 pillow-10.0.0 pyparsing-3.0.9\n"
     ]
    },
    {
     "name": "stderr",
     "output_type": "stream",
     "text": [
      "  WARNING: The scripts fonttools.exe, pyftmerge.exe, pyftsubset.exe and ttx.exe are installed in 'c:\\Users\\Anush Goswami\\AppData\\Local\\Programs\\Python\\Python311\\Scripts' which is not on PATH.\n",
      "  Consider adding this directory to PATH or, if you prefer to suppress this warning, use --no-warn-script-location.\n",
      "\n",
      "[notice] A new release of pip available: 22.3.1 -> 23.2.1\n",
      "[notice] To update, run: python.exe -m pip install --upgrade pip\n"
     ]
    },
    {
     "name": "stdout",
     "output_type": "stream",
     "text": [
      "Collecting scikit-image"
     ]
    },
    {
     "name": "stderr",
     "output_type": "stream",
     "text": [
      "  WARNING: The scripts lsm2bin.exe, tiff2fsspec.exe, tiffcomment.exe and tifffile.exe are installed in 'c:\\Users\\Anush Goswami\\AppData\\Local\\Programs\\Python\\Python311\\Scripts' which is not on PATH.\n",
      "  Consider adding this directory to PATH or, if you prefer to suppress this warning, use --no-warn-script-location.\n",
      "  WARNING: The scripts imageio_download_bin.exe and imageio_remove_bin.exe are installed in 'c:\\Users\\Anush Goswami\\AppData\\Local\\Programs\\Python\\Python311\\Scripts' which is not on PATH.\n",
      "  Consider adding this directory to PATH or, if you prefer to suppress this warning, use --no-warn-script-location.\n",
      "\n",
      "[notice] A new release of pip available: 22.3.1 -> 23.2.1\n",
      "[notice] To update, run: python.exe -m pip install --upgrade pip\n"
     ]
    },
    {
     "name": "stdout",
     "output_type": "stream",
     "text": [
      "\n",
      "  Downloading scikit_image-0.21.0-cp311-cp311-win_amd64.whl (22.8 MB)\n",
      "     -------------------------------------- 22.8/22.8 MB 591.4 kB/s eta 0:00:00\n",
      "Requirement already satisfied: numpy>=1.21.1 in c:\\users\\anush goswami\\appdata\\local\\programs\\python\\python311\\lib\\site-packages (from scikit-image) (1.25.1)\n",
      "Collecting scipy>=1.8\n",
      "  Downloading scipy-1.11.1-cp311-cp311-win_amd64.whl (44.0 MB)\n",
      "     ---------------------------------------- 44.0/44.0 MB 1.1 MB/s eta 0:00:00\n",
      "Collecting networkx>=2.8\n",
      "  Downloading networkx-3.1-py3-none-any.whl (2.1 MB)\n",
      "     ---------------------------------------- 2.1/2.1 MB 1.4 MB/s eta 0:00:00\n",
      "Requirement already satisfied: pillow>=9.0.1 in c:\\users\\anush goswami\\appdata\\local\\programs\\python\\python311\\lib\\site-packages (from scikit-image) (10.0.0)\n",
      "Collecting imageio>=2.27\n",
      "  Downloading imageio-2.31.1-py3-none-any.whl (313 kB)\n",
      "     -------------------------------------- 313.2/313.2 kB 1.1 MB/s eta 0:00:00\n",
      "Collecting tifffile>=2022.8.12\n",
      "  Downloading tifffile-2023.7.18-py3-none-any.whl (221 kB)\n",
      "     ------------------------------------ 221.4/221.4 kB 844.6 kB/s eta 0:00:00\n",
      "Collecting PyWavelets>=1.1.1\n",
      "  Downloading PyWavelets-1.4.1-cp311-cp311-win_amd64.whl (4.2 MB)\n",
      "     ---------------------------------------- 4.2/4.2 MB 856.8 kB/s eta 0:00:00\n",
      "Requirement already satisfied: packaging>=21 in c:\\users\\anush goswami\\appdata\\roaming\\python\\python311\\site-packages (from scikit-image) (23.1)\n",
      "Collecting lazy_loader>=0.2\n",
      "  Downloading lazy_loader-0.3-py3-none-any.whl (9.1 kB)\n",
      "Installing collected packages: tifffile, scipy, PyWavelets, networkx, lazy_loader, imageio, scikit-image\n",
      "Successfully installed PyWavelets-1.4.1 imageio-2.31.1 lazy_loader-0.3 networkx-3.1 scikit-image-0.21.0 scipy-1.11.1 tifffile-2023.7.18\n",
      "Requirement already satisfied: pillow in c:\\users\\anush goswami\\appdata\\local\\programs\\python\\python311\\lib\\site-packages (10.0.0)\n"
     ]
    },
    {
     "name": "stderr",
     "output_type": "stream",
     "text": [
      "\n",
      "[notice] A new release of pip available: 22.3.1 -> 23.2.1\n",
      "[notice] To update, run: python.exe -m pip install --upgrade pip\n"
     ]
    }
   ],
   "source": [
    "#Commands to install some libraries \n",
    "!python -m pip install opencv-python\n",
    "!python -m pip install matplotlib\n",
    "!python -m pip install scikit-image\n",
    "!python -m pip install pillow\n"
   ]
  },
  {
   "cell_type": "code",
   "execution_count": null,
   "metadata": {},
   "outputs": [],
   "source": []
  }
 ],
 "metadata": {
  "kernelspec": {
   "display_name": "Python 3",
   "language": "python",
   "name": "python3"
  },
  "language_info": {
   "codemirror_mode": {
    "name": "ipython",
    "version": 3
   },
   "file_extension": ".py",
   "mimetype": "text/x-python",
   "name": "python",
   "nbconvert_exporter": "python",
   "pygments_lexer": "ipython3",
   "version": "3.11.3"
  },
  "orig_nbformat": 4
 },
 "nbformat": 4,
 "nbformat_minor": 2
}
