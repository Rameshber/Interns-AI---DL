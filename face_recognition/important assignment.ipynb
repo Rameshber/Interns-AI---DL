{
 "cells": [
  {
   "cell_type": "code",
   "execution_count": 1,
   "metadata": {},
   "outputs": [
    {
     "name": "stdout",
     "output_type": "stream",
     "text": [
      "Package           Version\n",
      "----------------- ---------\n",
      "asttokens         2.2.1\n",
      "backcall          0.2.0\n",
      "colorama          0.4.6\n",
      "comm              0.1.3\n",
      "contourpy         1.1.0\n",
      "cycler            0.11.0\n",
      "debugpy           1.6.7\n",
      "decorator         5.1.1\n",
      "executing         1.2.0\n",
      "fonttools         4.41.1\n",
      "imageio           2.31.1\n",
      "ipykernel         6.23.0\n",
      "ipython           8.13.2\n",
      "jedi              0.18.2\n",
      "jupyter_client    8.2.0\n",
      "jupyter_core      5.3.0\n",
      "kiwisolver        1.4.4\n",
      "lazy_loader       0.3\n",
      "matplotlib        3.7.2\n",
      "matplotlib-inline 0.1.6\n",
      "nest-asyncio      1.5.6\n",
      "networkx          3.1\n",
      "numpy             1.25.1\n",
      "opencv-python     4.8.0.74\n",
      "packaging         23.1\n",
      "pandas            2.0.3\n",
      "parso             0.8.3\n",
      "pickleshare       0.7.5\n",
      "Pillow            10.0.0\n",
      "pip               23.2.1\n",
      "platformdirs      3.5.1\n",
      "prompt-toolkit    3.0.38\n",
      "psutil            5.9.5\n",
      "pure-eval         0.2.2\n",
      "Pygments          2.15.1\n",
      "pyparsing         3.0.9\n",
      "python-dateutil   2.8.2\n",
      "pytz              2023.3\n",
      "PyWavelets        1.4.1\n",
      "pywin32           306\n",
      "pyzmq             25.0.2\n",
      "scikit-image      0.21.0\n",
      "scipy             1.11.1\n",
      "seaborn           0.12.2\n",
      "setuptools        65.5.0\n",
      "six               1.16.0\n",
      "stack-data        0.6.2\n",
      "tifffile          2023.7.18\n",
      "tornado           6.3.2\n",
      "traitlets         5.9.0\n",
      "tzdata            2023.3\n",
      "wcwidth           0.2.6\n",
      "Note: you may need to restart the kernel to use updated packages.\n"
     ]
    }
   ],
   "source": [
    "pip list"
   ]
  },
  {
   "cell_type": "code",
   "execution_count": 13,
   "metadata": {},
   "outputs": [],
   "source": [
    "import subprocess,time"
   ]
  },
  {
   "cell_type": "code",
   "execution_count": 14,
   "metadata": {},
   "outputs": [
    {
     "data": {
      "text/plain": [
       "['ABOVE_NORMAL_PRIORITY_CLASS',\n",
       " 'BELOW_NORMAL_PRIORITY_CLASS',\n",
       " 'CREATE_BREAKAWAY_FROM_JOB',\n",
       " 'CREATE_DEFAULT_ERROR_MODE',\n",
       " 'CREATE_NEW_CONSOLE',\n",
       " 'CREATE_NEW_PROCESS_GROUP',\n",
       " 'CREATE_NO_WINDOW',\n",
       " 'CalledProcessError',\n",
       " 'CompletedProcess',\n",
       " 'DETACHED_PROCESS',\n",
       " 'DEVNULL',\n",
       " 'HIGH_PRIORITY_CLASS',\n",
       " 'Handle',\n",
       " 'IDLE_PRIORITY_CLASS',\n",
       " 'NORMAL_PRIORITY_CLASS',\n",
       " 'PIPE',\n",
       " 'Popen',\n",
       " 'REALTIME_PRIORITY_CLASS',\n",
       " 'STARTF_USESHOWWINDOW',\n",
       " 'STARTF_USESTDHANDLES',\n",
       " 'STARTUPINFO',\n",
       " 'STDOUT',\n",
       " 'STD_ERROR_HANDLE',\n",
       " 'STD_INPUT_HANDLE',\n",
       " 'STD_OUTPUT_HANDLE',\n",
       " 'SW_HIDE',\n",
       " 'SubprocessError',\n",
       " 'TimeoutExpired',\n",
       " '_USE_POSIX_SPAWN',\n",
       " '_USE_VFORK',\n",
       " '__all__',\n",
       " '__builtins__',\n",
       " '__cached__',\n",
       " '__doc__',\n",
       " '__file__',\n",
       " '__loader__',\n",
       " '__name__',\n",
       " '__package__',\n",
       " '__spec__',\n",
       " '_active',\n",
       " '_args_from_interpreter_flags',\n",
       " '_can_fork_exec',\n",
       " '_cleanup',\n",
       " '_mswindows',\n",
       " '_optim_args_from_interpreter_flags',\n",
       " '_text_encoding',\n",
       " '_time',\n",
       " '_use_posix_spawn',\n",
       " '_winapi',\n",
       " 'builtins',\n",
       " 'call',\n",
       " 'check_call',\n",
       " 'check_output',\n",
       " 'contextlib',\n",
       " 'errno',\n",
       " 'fcntl',\n",
       " 'getoutput',\n",
       " 'getstatusoutput',\n",
       " 'io',\n",
       " 'list2cmdline',\n",
       " 'locale',\n",
       " 'msvcrt',\n",
       " 'os',\n",
       " 'run',\n",
       " 'signal',\n",
       " 'sys',\n",
       " 'threading',\n",
       " 'time',\n",
       " 'types',\n",
       " 'warnings']"
      ]
     },
     "execution_count": 14,
     "metadata": {},
     "output_type": "execute_result"
    }
   ],
   "source": [
    "dir(subprocess)"
   ]
  },
  {
   "cell_type": "code",
   "execution_count": 15,
   "metadata": {},
   "outputs": [],
   "source": [
    "x = subprocess.getoutput('pip list')"
   ]
  },
  {
   "cell_type": "code",
   "execution_count": 16,
   "metadata": {},
   "outputs": [
    {
     "name": "stdout",
     "output_type": "stream",
     "text": [
      "Package                 Version\n",
      "----------------------- -----------\n",
      "asttokens               2.2.1\n",
      "backcall                0.2.0\n",
      "click                   8.1.6\n",
      "colorama                0.4.6\n",
      "comm                    0.1.4\n",
      "contourpy               1.1.0\n",
      "cycler                  0.11.0\n",
      "debugpy                 1.6.7.post1\n",
      "decorator               5.1.1\n",
      "dlib                    19.22.99\n",
      "executing               1.2.0\n",
      "face-recognition        1.3.0\n",
      "face-recognition-models 0.3.0\n",
      "fonttools               4.42.0\n",
      "imageio                 2.31.1\n",
      "ipykernel               6.25.1\n",
      "ipython                 8.14.0\n",
      "jedi                    0.19.0\n",
      "jupyter_client          8.3.0\n",
      "jupyter_core            5.3.1\n",
      "kiwisolver              1.4.4\n",
      "lazy_loader             0.3\n",
      "matplotlib              3.7.2\n",
      "matplotlib-inline       0.1.6\n",
      "nest-asyncio            1.5.7\n",
      "networkx                3.1\n",
      "numpy                   1.24.3\n",
      "opencv-contrib-python   4.8.0.76\n",
      "opencv-python           4.8.0.76\n",
      "packaging               23.1\n",
      "pandas                  2.0.1\n",
      "parso                   0.8.3\n",
      "pickleshare             0.7.5\n",
      "Pillow                  10.0.0\n",
      "pip                     23.2.1\n",
      "platformdirs            3.10.0\n",
      "prompt-toolkit          3.0.39\n",
      "psutil                  5.9.5\n",
      "pure-eval               0.2.2\n",
      "Pygments                2.16.1\n",
      "pyparsing               3.0.9\n",
      "python-dateutil         2.8.2\n",
      "pytz                    2023.3\n",
      "PyWavelets              1.4.1\n",
      "pywin32                 306\n",
      "pyzmq                   25.1.1\n",
      "scikit-image            0.21.0\n",
      "scipy                   1.11.1\n",
      "setuptools              65.5.0\n",
      "six                     1.16.0\n",
      "stack-data              0.6.2\n",
      "tifffile                2023.8.12\n",
      "tornado                 6.3.3\n",
      "traitlets               5.9.0\n",
      "tzdata                  2023.3\n",
      "wcwidth                 0.2.6\n"
     ]
    }
   ],
   "source": [
    "print(x)"
   ]
  },
  {
   "cell_type": "code",
   "execution_count": 17,
   "metadata": {},
   "outputs": [
    {
     "name": "stdout",
     "output_type": "stream",
     "text": [
      "<class 'str'>\n"
     ]
    }
   ],
   "source": [
    "print(type(x))"
   ]
  },
  {
   "cell_type": "code",
   "execution_count": 22,
   "metadata": {},
   "outputs": [
    {
     "name": "stdout",
     "output_type": "stream",
     "text": [
      "numpy\n"
     ]
    }
   ],
   "source": [
    "#interview\n",
    "mylist = x.split()\n",
    "for i in mylist:\n",
    "    if i == \"numpy\":\n",
    "       print(i)\n",
    "    time.sleep(1)"
   ]
  },
  {
   "cell_type": "code",
   "execution_count": 23,
   "metadata": {},
   "outputs": [
    {
     "data": {
      "text/plain": [
       "116"
      ]
     },
     "execution_count": 23,
     "metadata": {},
     "output_type": "execute_result"
    }
   ],
   "source": [
    "len(mylist)"
   ]
  },
  {
   "cell_type": "code",
   "execution_count": null,
   "metadata": {},
   "outputs": [],
   "source": []
  }
 ],
 "metadata": {
  "kernelspec": {
   "display_name": "Python 3",
   "language": "python",
   "name": "python3"
  },
  "language_info": {
   "codemirror_mode": {
    "name": "ipython",
    "version": 3
   },
   "file_extension": ".py",
   "mimetype": "text/x-python",
   "name": "python",
   "nbconvert_exporter": "python",
   "pygments_lexer": "ipython3",
   "version": "3.11.3"
  },
  "orig_nbformat": 4
 },
 "nbformat": 4,
 "nbformat_minor": 2
}
