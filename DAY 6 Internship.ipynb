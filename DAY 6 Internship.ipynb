{
 "cells": [
  {
   "cell_type": "code",
   "execution_count": 35,
   "metadata": {},
   "outputs": [],
   "source": [
    "#OBJECT ORIENTED PROGRAMMING IN PYTHON.\n",
    "#Object - template\n",
    "#Class - instance\n",
    "\n",
    "#example :\n",
    "#  class Abc:  #class\n",
    "#    pass\n",
    "\n",
    "# x = Abc()   #object\n",
    "# x"
   ]
  },
  {
   "cell_type": "code",
   "execution_count": 36,
   "metadata": {},
   "outputs": [],
   "source": [
    "# A class may have\n",
    " \n",
    "### 1. Methods/Functions\n",
    "    # user defined methods/\n",
    "    # special methods / Dunders / Magic Methods\n",
    "    # Decorated Methods { stastical /abstraction method }\n",
    "\n",
    "### 2.Attributes\n",
    "  # Instance Attribute \n",
    "  # Class Attribute\n",
    "\n",
    "\n",
    "\n",
    "# Inheritance \n",
    " # Single level\n",
    " # Multiple level\n",
    " # Multi level \n",
    " # Heirarichal Level\n",
    "\n",
    "# refer to internet.\n"
   ]
  },
  {
   "cell_type": "code",
   "execution_count": 37,
   "metadata": {},
   "outputs": [
    {
     "name": "stdout",
     "output_type": "stream",
     "text": [
      "<__main__.Abc object at 0x00000249441ACA50>\n",
      "10 20\n"
     ]
    }
   ],
   "source": [
    "class Abc():\n",
    "    a =10\n",
    "    b = 20\n",
    "\n",
    "    def show(self):\n",
    "        print(self.a, Abc.b) #(instance attribute , class attribute)\n",
    "\n",
    "x = Abc()\n",
    "print(x)\n",
    "x.show()\n",
    "#x reaches to instance p.a when used as x.show to call the function of class.\n"
   ]
  },
  {
   "cell_type": "code",
   "execution_count": 38,
   "metadata": {},
   "outputs": [
    {
     "name": "stdout",
     "output_type": "stream",
     "text": [
      "10 20\n",
      "10 20\n",
      "10 20\n"
     ]
    }
   ],
   "source": [
    "y = Abc()\n",
    "x = Abc()\n",
    "z = Abc()\n",
    "x.show()\n",
    "y.show()\n",
    "z.show()"
   ]
  },
  {
   "cell_type": "code",
   "execution_count": 39,
   "metadata": {},
   "outputs": [],
   "source": [
    "x.a = 45\n",
    "y.a = 55\n",
    "Abc.b =100\n",
    "\n"
   ]
  },
  {
   "cell_type": "code",
   "execution_count": 40,
   "metadata": {},
   "outputs": [
    {
     "name": "stdout",
     "output_type": "stream",
     "text": [
      "45 100\n",
      "55 100\n",
      "10 100\n"
     ]
    }
   ],
   "source": [
    "x.show()\n",
    "y.show()\n",
    "z.show()"
   ]
  },
  {
   "cell_type": "code",
   "execution_count": 41,
   "metadata": {},
   "outputs": [
    {
     "name": "stdout",
     "output_type": "stream",
     "text": [
      "<__main__.Abc object at 0x00000249441BBB50>\n",
      "10 20\n",
      "30 20\n",
      "15 20\n",
      "10 30\n",
      "30 30\n",
      "15 30\n",
      "10 30\n"
     ]
    },
    {
     "data": {
      "text/plain": [
       "31"
      ]
     },
     "execution_count": 41,
     "metadata": {},
     "output_type": "execute_result"
    }
   ],
   "source": [
    "#Constructor\n",
    "#dunders\n",
    "\n",
    "from typing import Any\n",
    "\n",
    "\n",
    "class Abc():\n",
    "    a =10\n",
    "    b =20\n",
    "    def __init__(self, a=10, b = 20): #-> None:  #none represent return (new in newly python versions) will be used in init line.\n",
    "        self.a = a    #instance attribute.\n",
    "        Abc.b = b\n",
    "    # dunder for string\n",
    "    def __str__(self) -> str:\n",
    "        return \"Hi\"\n",
    "    #now to call x we use another dunder\n",
    "    def __call__(self, *args: Any, **kwds):\n",
    "        return sum(args)\n",
    "\n",
    "    def show(self):\n",
    "       print(self.a ,Abc.b)\n",
    "print(x)\n",
    "x = Abc()\n",
    "y = Abc(a =30)\n",
    "z = Abc(a =15)\n",
    "x.show(); y.show(); z.show() \n",
    "w = Abc(b= 30)\n",
    "x.show(); y.show(); z.show(); w.show()\n",
    "x(5,8,2,5,7,4)\n"
   ]
  },
  {
   "cell_type": "code",
   "execution_count": 42,
   "metadata": {},
   "outputs": [
    {
     "name": "stdout",
     "output_type": "stream",
     "text": [
      "Its Simple\n",
      "10 20\n"
     ]
    }
   ],
   "source": [
    "#Inheritance in Python\n",
    "\n",
    "class Pqr(Abc):  #write the name of the class that you want to get inherited.\n",
    "    def simple(self):\n",
    "        print(\"Its Simple\")\n",
    "p = Pqr()\n",
    "p.simple()\n",
    "p.show()"
   ]
  },
  {
   "cell_type": "code",
   "execution_count": 43,
   "metadata": {},
   "outputs": [
    {
     "name": "stdout",
     "output_type": "stream",
     "text": [
      "Its Simple\n",
      "30\n"
     ]
    },
    {
     "data": {
      "text/plain": [
       "0"
      ]
     },
     "execution_count": 43,
     "metadata": {},
     "output_type": "execute_result"
    }
   ],
   "source": [
    "#Inheritance in Python\n",
    "\n",
    "class Pqr(Abc):  #write the name of the class that you want to get inherited.\n",
    "    def __init__(self, a=10, b=20):\n",
    "        super().__init__(a, b)\n",
    "    def simple(self):\n",
    "        print(\"Its Simple\")\n",
    "    def show(self):\n",
    "       print(self.a) \n",
    "p = Pqr(a =30,)\n",
    "p.simple()\n",
    "p.show()\n",
    "p()"
   ]
  },
  {
   "cell_type": "code",
   "execution_count": 44,
   "metadata": {},
   "outputs": [],
   "source": [
    "#geometricManagement  - variable\n",
    "#GeometricManagement  - class\n",
    "#geometric_management  - function\n"
   ]
  },
  {
   "cell_type": "code",
   "execution_count": 46,
   "metadata": {},
   "outputs": [],
   "source": [
    "#### GUI Devlopment ####\n",
    "\n",
    "# GUI stands for Graphical User Interface\n",
    "# common library in python to perform GUI are tkinter , turtle , kiwi , custom tkinter.\n",
    "\n",
    "\n",
    "#tkinter\n",
    "# components in tkinter are classes he ha.\n",
    "\n",
    "import tkinter as ktr\n",
    "\n",
    "\n",
    "app = ktr.Tk(__name__)\n",
    "app.geometry('400x400')\n",
    "app.title('My First GUI')\n",
    "\n",
    "#Label , Entry and Button -> Geometric Management / Placement\n",
    "# pack(), grid(row = 0, column = 0), place(x=20 , y=20)\n",
    "\n",
    "#ist way\n",
    "a = ktr.Label(app, text = \"My First Text\")\n",
    "a.pack()\n",
    "\n",
    "#2nd way\n",
    "a = ktr.Label(app, text = \"My Second Text\").pack()\n",
    "\n",
    "\n",
    "\n",
    "\n",
    "\n",
    "\n",
    "app.mainloop()"
   ]
  },
  {
   "cell_type": "code",
   "execution_count": 51,
   "metadata": {},
   "outputs": [],
   "source": [
    "#### GUI Devlopment ####\n",
    "\n",
    "# GUI stands for Graphical User Interface\n",
    "# common library in python to perform GUI are tkinter , turtle , kiwi , custom tkinter.\n",
    "\n",
    "\n",
    "#tkinter\n",
    "# components in tkinter are classes he ha.\n",
    "\n",
    "import tkinter as ktr\n",
    "\n",
    "\n",
    "app = ktr.Tk(__name__)\n",
    "app.geometry('400x400')\n",
    "app.title('My First GUI')\n",
    "\n",
    "#Label , Entry, Button -> Geometric Management / Placement\n",
    "# pack(), grid(row = 0, column = 0), place(x=20 , y=20)\n",
    "\n",
    "#Label\n",
    "#ist way\n",
    "#a = ktr.Label(app, text = \"My First Text\")\n",
    "#a.grid(row = 0, column = 0)\n",
    "\n",
    "#2nd way\n",
    "#a = ktr.Label(app, text = \"My Second Text\").grid(row = 1, column = 1)\n",
    "#variable class in tkinter\n",
    "var1 = ktr.Variable()\n",
    "var1.set('Initial Value')\n",
    "a = ktr.Label(app, textvariable = var1)\n",
    "a.grid(row = 0, column = 0)\n",
    "\n",
    "#Entry\n",
    "var2 = ktr.Variable()\n",
    "ktr.Entry(app, textvariable = var2).grid(row =1 ,column =1)\n",
    "\n",
    "def putText():\n",
    "    var1.set(var2.get())\n",
    "#Button\n",
    "ktr.Button(app, text = 'put', command = putText).grid(row =2 , column =1)\n",
    "app.mainloop()"
   ]
  },
  {
   "cell_type": "code",
   "execution_count": null,
   "metadata": {},
   "outputs": [],
   "source": []
  }
 ],
 "metadata": {
  "kernelspec": {
   "display_name": "Python 3",
   "language": "python",
   "name": "python3"
  },
  "language_info": {
   "codemirror_mode": {
    "name": "ipython",
    "version": 3
   },
   "file_extension": ".py",
   "mimetype": "text/x-python",
   "name": "python",
   "nbconvert_exporter": "python",
   "pygments_lexer": "ipython3",
   "version": "3.11.3"
  },
  "orig_nbformat": 4
 },
 "nbformat": 4,
 "nbformat_minor": 2
}
